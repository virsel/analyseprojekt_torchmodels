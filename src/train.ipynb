{
 "cells": [
  {
   "cell_type": "code",
   "execution_count": 1,
   "metadata": {},
   "outputs": [],
   "source": [
    "import torch.nn as nn\n",
    "import torch.optim as optim\n",
    "import torch.nn.functional as F\n",
    "from model import SimpleNN, HyperParams\n",
    "from data import load_data\n",
    "import config as m_config\n",
    "import os\n",
    "os.environ[\"CUDA_VISIBLE_DEVICES\"]=\"\""
   ]
  },
  {
   "cell_type": "code",
   "execution_count": 2,
   "metadata": {},
   "outputs": [
    {
     "name": "stdout",
     "output_type": "stream",
     "text": [
      "False\n",
      "None\n"
     ]
    }
   ],
   "source": [
    "import torch\n",
    "print(torch.cuda.is_available())\n",
    "print(torch.version.cuda)"
   ]
  },
  {
   "cell_type": "code",
   "execution_count": 3,
   "metadata": {},
   "outputs": [],
   "source": [
    "config = m_config.get_default_config()"
   ]
  },
  {
   "cell_type": "code",
   "execution_count": 4,
   "metadata": {},
   "outputs": [],
   "source": [
    "train_loader, val_loader = load_data()"
   ]
  },
  {
   "cell_type": "code",
   "execution_count": 5,
   "metadata": {},
   "outputs": [
    {
     "data": {
      "text/plain": [
       "474"
      ]
     },
     "execution_count": 5,
     "metadata": {},
     "output_type": "execute_result"
    }
   ],
   "source": [
    "len(train_loader.dataset.data)"
   ]
  },
  {
   "cell_type": "code",
   "execution_count": 6,
   "metadata": {},
   "outputs": [],
   "source": [
    "hparams = HyperParams()"
   ]
  },
  {
   "cell_type": "code",
   "execution_count": 7,
   "metadata": {},
   "outputs": [],
   "source": [
    "# Initialize the model, loss function, and optimizer\n",
    "model = SimpleNN(config, params=hparams)\n",
    "model = model.to(\"cpu\")\n",
    "model.setup_criterion()\n",
    "model.initialize_from_ckp()"
   ]
  },
  {
   "cell_type": "code",
   "execution_count": 8,
   "metadata": {},
   "outputs": [
    {
     "name": "stdout",
     "output_type": "stream",
     "text": [
      "Epoch 1/100, Train Loss: 2.5334, Val Loss: 0.8352, Val Accuracy: 0.5167\n",
      "New best model saved: ..\\output\\v2_cnn\\checkpoints\\model_epoch_0_acc_0.5167.pth\n",
      "Epoch 2/100, Train Loss: 1.6166, Val Loss: 0.6834, Val Accuracy: 0.5333\n",
      "New best model saved: ..\\output\\v2_cnn\\checkpoints\\model_epoch_1_acc_0.5333.pth\n",
      "Epoch 3/100, Train Loss: 1.2561, Val Loss: 0.7856, Val Accuracy: 0.5167\n",
      "Epoch 4/100, Train Loss: 1.2480, Val Loss: 1.1744, Val Accuracy: 0.5167\n",
      "Epoch 5/100, Train Loss: 1.1244, Val Loss: 1.0788, Val Accuracy: 0.4833\n",
      "Epoch 6/100, Train Loss: 1.0439, Val Loss: 2.1844, Val Accuracy: 0.4833\n",
      "Epoch 7/100, Train Loss: 1.0128, Val Loss: 1.8186, Val Accuracy: 0.4833\n",
      "Epoch 8/100, Train Loss: 0.9724, Val Loss: 2.6806, Val Accuracy: 0.4833\n",
      "Epoch 9/100, Train Loss: 0.9336, Val Loss: 1.5664, Val Accuracy: 0.4833\n",
      "Epoch 10/100, Train Loss: 1.1199, Val Loss: 1.0559, Val Accuracy: 0.4833\n",
      "Epoch 11/100, Train Loss: 1.0136, Val Loss: 0.7804, Val Accuracy: 0.5333\n",
      "Epoch 12/100, Train Loss: 0.9560, Val Loss: 0.7912, Val Accuracy: 0.5167\n",
      "Epoch 13/100, Train Loss: 0.9575, Val Loss: 1.2815, Val Accuracy: 0.4833\n",
      "Epoch 14/100, Train Loss: 0.8603, Val Loss: 2.4384, Val Accuracy: 0.4833\n",
      "Epoch 15/100, Train Loss: 0.8848, Val Loss: 1.1742, Val Accuracy: 0.4833\n",
      "Epoch 16/100, Train Loss: 0.9039, Val Loss: 0.8564, Val Accuracy: 0.5667\n",
      "New best model saved: ..\\output\\v2_cnn\\checkpoints\\model_epoch_15_acc_0.5667.pth\n",
      "Epoch 17/100, Train Loss: 0.8081, Val Loss: 0.6740, Val Accuracy: 0.5500\n",
      "Epoch 18/100, Train Loss: 0.8876, Val Loss: 0.7091, Val Accuracy: 0.5500\n",
      "Epoch 19/100, Train Loss: 0.8512, Val Loss: 0.6309, Val Accuracy: 0.7000\n",
      "New best model saved: ..\\output\\v2_cnn\\checkpoints\\model_epoch_18_acc_0.7000.pth\n",
      "Epoch 20/100, Train Loss: 0.9394, Val Loss: 1.1653, Val Accuracy: 0.4833\n",
      "Epoch 21/100, Train Loss: 0.8439, Val Loss: 0.8696, Val Accuracy: 0.4833\n",
      "Epoch 22/100, Train Loss: 0.8367, Val Loss: 0.6506, Val Accuracy: 0.5667\n",
      "Epoch 23/100, Train Loss: 0.8387, Val Loss: 0.6704, Val Accuracy: 0.5500\n",
      "Epoch 24/100, Train Loss: 0.7773, Val Loss: 0.6511, Val Accuracy: 0.6500\n",
      "Epoch 25/100, Train Loss: 0.8074, Val Loss: 0.9267, Val Accuracy: 0.5167\n",
      "Epoch 26/100, Train Loss: 0.8433, Val Loss: 0.6880, Val Accuracy: 0.5500\n",
      "Epoch 27/100, Train Loss: 0.7960, Val Loss: 0.8183, Val Accuracy: 0.5167\n",
      "Epoch 28/100, Train Loss: 0.8606, Val Loss: 0.9349, Val Accuracy: 0.5167\n",
      "Epoch 29/100, Train Loss: 0.7994, Val Loss: 0.9474, Val Accuracy: 0.5167\n",
      "Epoch 30/100, Train Loss: 0.7801, Val Loss: 0.8146, Val Accuracy: 0.5167\n",
      "Epoch 31/100, Train Loss: 0.8272, Val Loss: 0.6686, Val Accuracy: 0.6500\n",
      "Epoch 32/100, Train Loss: 0.7962, Val Loss: 0.7984, Val Accuracy: 0.5167\n",
      "Epoch 33/100, Train Loss: 0.8441, Val Loss: 1.4574, Val Accuracy: 0.5167\n",
      "Epoch 34/100, Train Loss: 0.7587, Val Loss: 1.0798, Val Accuracy: 0.5167\n",
      "Epoch 35/100, Train Loss: 0.7803, Val Loss: 0.6802, Val Accuracy: 0.5667\n",
      "Epoch 36/100, Train Loss: 0.7894, Val Loss: 0.6811, Val Accuracy: 0.5000\n",
      "Epoch 37/100, Train Loss: 0.8487, Val Loss: 0.6890, Val Accuracy: 0.5500\n",
      "Epoch 38/100, Train Loss: 0.7931, Val Loss: 0.7932, Val Accuracy: 0.5333\n",
      "Epoch 39/100, Train Loss: 0.7955, Val Loss: 0.6794, Val Accuracy: 0.5833\n",
      "Epoch 40/100, Train Loss: 0.7707, Val Loss: 0.6914, Val Accuracy: 0.5167\n",
      "Epoch 41/100, Train Loss: 0.7868, Val Loss: 1.0211, Val Accuracy: 0.4833\n",
      "Epoch 42/100, Train Loss: 0.7931, Val Loss: 0.6981, Val Accuracy: 0.5167\n",
      "Epoch 43/100, Train Loss: 0.7987, Val Loss: 0.6741, Val Accuracy: 0.6000\n",
      "Epoch 44/100, Train Loss: 0.7453, Val Loss: 0.6926, Val Accuracy: 0.5000\n",
      "Epoch 45/100, Train Loss: 0.7474, Val Loss: 0.7075, Val Accuracy: 0.5167\n",
      "Epoch 46/100, Train Loss: 0.8015, Val Loss: 0.7832, Val Accuracy: 0.5167\n",
      "Epoch 47/100, Train Loss: 0.8247, Val Loss: 0.8814, Val Accuracy: 0.5167\n",
      "Epoch 48/100, Train Loss: 0.8349, Val Loss: 0.8274, Val Accuracy: 0.5167\n",
      "Epoch 49/100, Train Loss: 0.7867, Val Loss: 0.7982, Val Accuracy: 0.5167\n",
      "Epoch 50/100, Train Loss: 0.7837, Val Loss: 0.8032, Val Accuracy: 0.5167\n",
      "Epoch 51/100, Train Loss: 0.7988, Val Loss: 0.7596, Val Accuracy: 0.5167\n",
      "Epoch 52/100, Train Loss: 0.8144, Val Loss: 0.7561, Val Accuracy: 0.5167\n",
      "Epoch 53/100, Train Loss: 0.8228, Val Loss: 0.7592, Val Accuracy: 0.5167\n",
      "Epoch 54/100, Train Loss: 0.7770, Val Loss: 0.8322, Val Accuracy: 0.5167\n",
      "Epoch 55/100, Train Loss: 0.8092, Val Loss: 0.8095, Val Accuracy: 0.5167\n",
      "Epoch 56/100, Train Loss: 0.7721, Val Loss: 0.7941, Val Accuracy: 0.5167\n",
      "Epoch 57/100, Train Loss: 0.7730, Val Loss: 0.7832, Val Accuracy: 0.5167\n",
      "Epoch 58/100, Train Loss: 0.8001, Val Loss: 0.7733, Val Accuracy: 0.5167\n",
      "Epoch 59/100, Train Loss: 0.7675, Val Loss: 0.6816, Val Accuracy: 0.5833\n",
      "Epoch 60/100, Train Loss: 0.7639, Val Loss: 0.6755, Val Accuracy: 0.5833\n",
      "Epoch 61/100, Train Loss: 0.7479, Val Loss: 0.6763, Val Accuracy: 0.5833\n",
      "Epoch 62/100, Train Loss: 0.7991, Val Loss: 0.6840, Val Accuracy: 0.5500\n",
      "Epoch 63/100, Train Loss: 0.8073, Val Loss: 0.6844, Val Accuracy: 0.5500\n",
      "Epoch 64/100, Train Loss: 0.7989, Val Loss: 0.6813, Val Accuracy: 0.6000\n",
      "Epoch 65/100, Train Loss: 0.7783, Val Loss: 0.6822, Val Accuracy: 0.5667\n",
      "Epoch 66/100, Train Loss: 0.8031, Val Loss: 0.6815, Val Accuracy: 0.5667\n",
      "Epoch 67/100, Train Loss: 0.7662, Val Loss: 0.6785, Val Accuracy: 0.5667\n",
      "Epoch 68/100, Train Loss: 0.8027, Val Loss: 0.6765, Val Accuracy: 0.6167\n",
      "Epoch 69/100, Train Loss: 0.7750, Val Loss: 0.6758, Val Accuracy: 0.5833\n",
      "Epoch 70/100, Train Loss: 0.8537, Val Loss: 0.6772, Val Accuracy: 0.5833\n",
      "Epoch 71/100, Train Loss: 0.7943, Val Loss: 0.6763, Val Accuracy: 0.6000\n",
      "Epoch 72/100, Train Loss: 0.7991, Val Loss: 0.6763, Val Accuracy: 0.6000\n",
      "Epoch 73/100, Train Loss: 0.7737, Val Loss: 0.6776, Val Accuracy: 0.6000\n",
      "Epoch 74/100, Train Loss: 0.7439, Val Loss: 0.6805, Val Accuracy: 0.5833\n",
      "Epoch 75/100, Train Loss: 0.7870, Val Loss: 0.6801, Val Accuracy: 0.5833\n",
      "Epoch 76/100, Train Loss: 0.7430, Val Loss: 0.6794, Val Accuracy: 0.6000\n",
      "Epoch 77/100, Train Loss: 0.7771, Val Loss: 0.6796, Val Accuracy: 0.6000\n",
      "Epoch 78/100, Train Loss: 0.8307, Val Loss: 0.6813, Val Accuracy: 0.6000\n",
      "Epoch 79/100, Train Loss: 0.7885, Val Loss: 0.6796, Val Accuracy: 0.6000\n",
      "Epoch 80/100, Train Loss: 0.7737, Val Loss: 0.6783, Val Accuracy: 0.5667\n",
      "Epoch 81/100, Train Loss: 0.7433, Val Loss: 0.6778, Val Accuracy: 0.5667\n",
      "Epoch 82/100, Train Loss: 0.7804, Val Loss: 0.6769, Val Accuracy: 0.5667\n",
      "Epoch 83/100, Train Loss: 0.7836, Val Loss: 0.6768, Val Accuracy: 0.5667\n",
      "Epoch 84/100, Train Loss: 0.7496, Val Loss: 0.6791, Val Accuracy: 0.5667\n",
      "Epoch 85/100, Train Loss: 0.7517, Val Loss: 0.6789, Val Accuracy: 0.5833\n",
      "Epoch 86/100, Train Loss: 0.7569, Val Loss: 0.6805, Val Accuracy: 0.6000\n",
      "Epoch 87/100, Train Loss: 0.7979, Val Loss: 0.6786, Val Accuracy: 0.5667\n",
      "Epoch 88/100, Train Loss: 0.7766, Val Loss: 0.6776, Val Accuracy: 0.5667\n",
      "Epoch 89/100, Train Loss: 0.7822, Val Loss: 0.6763, Val Accuracy: 0.5667\n",
      "Epoch 90/100, Train Loss: 0.7878, Val Loss: 0.6774, Val Accuracy: 0.5667\n",
      "Epoch 91/100, Train Loss: 0.8017, Val Loss: 0.6804, Val Accuracy: 0.6000\n",
      "Epoch 92/100, Train Loss: 0.7961, Val Loss: 0.6816, Val Accuracy: 0.6000\n",
      "Epoch 93/100, Train Loss: 0.7138, Val Loss: 0.6824, Val Accuracy: 0.5833\n",
      "Epoch 94/100, Train Loss: 0.7730, Val Loss: 0.6784, Val Accuracy: 0.5667\n",
      "Epoch 95/100, Train Loss: 0.7698, Val Loss: 0.6782, Val Accuracy: 0.5667\n",
      "Epoch 96/100, Train Loss: 0.7456, Val Loss: 0.6764, Val Accuracy: 0.5667\n",
      "Epoch 97/100, Train Loss: 0.7573, Val Loss: 0.6773, Val Accuracy: 0.5667\n",
      "Epoch 98/100, Train Loss: 0.7681, Val Loss: 0.6770, Val Accuracy: 0.5667\n",
      "Epoch 99/100, Train Loss: 0.7815, Val Loss: 0.6777, Val Accuracy: 0.5667\n",
      "Epoch 100/100, Train Loss: 0.8129, Val Loss: 0.6782, Val Accuracy: 0.5667\n"
     ]
    }
   ],
   "source": [
    "model.fit(train_loader, val_loader)"
   ]
  },
  {
   "cell_type": "code",
   "execution_count": 9,
   "metadata": {},
   "outputs": [
    {
     "ename": "NameError",
     "evalue": "name 'best_model' is not defined",
     "output_type": "error",
     "traceback": [
      "\u001b[1;31m---------------------------------------------------------------------------\u001b[0m",
      "\u001b[1;31mNameError\u001b[0m                                 Traceback (most recent call last)",
      "Cell \u001b[1;32mIn[9], line 1\u001b[0m\n\u001b[1;32m----> 1\u001b[0m \u001b[43mbest_model\u001b[49m\u001b[38;5;241m.\u001b[39meval()\n\u001b[0;32m      2\u001b[0m val_loss \u001b[38;5;241m=\u001b[39m \u001b[38;5;241m0.0\u001b[39m\n\u001b[0;32m      3\u001b[0m correct \u001b[38;5;241m=\u001b[39m \u001b[38;5;241m0\u001b[39m\n",
      "\u001b[1;31mNameError\u001b[0m: name 'best_model' is not defined"
     ]
    }
   ],
   "source": [
    "best_model.eval()\n",
    "val_loss = 0.0\n",
    "correct = 0\n",
    "total = 0\n",
    "with torch.no_grad():\n",
    "    for X_etc, X_emb, Y in val_loader:\n",
    "        outputs = best_model(X_etc, X_emb)\n",
    "        loss = criterion(outputs, Y)\n",
    "        _, predicted = torch.max(F.softmax(outputs, dim=1), 1)\n",
    "        total += Y.size(0)\n",
    "        correct += (predicted == Y).sum().item()\n",
    "\n",
    "val_accuracy = correct / total\n",
    "\n",
    "print(f'Val Accuracy: {val_accuracy:.4f}')"
   ]
  }
 ],
 "metadata": {
  "kernelspec": {
   "display_name": "ml_angew_programm",
   "language": "python",
   "name": "python3"
  },
  "language_info": {
   "codemirror_mode": {
    "name": "ipython",
    "version": 3
   },
   "file_extension": ".py",
   "mimetype": "text/x-python",
   "name": "python",
   "nbconvert_exporter": "python",
   "pygments_lexer": "ipython3",
   "version": "3.8.19"
  }
 },
 "nbformat": 4,
 "nbformat_minor": 2
}
